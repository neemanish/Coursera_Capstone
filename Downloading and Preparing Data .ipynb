{
    "cells": [
        {
            "cell_type": "markdown",
            "metadata": {
                "collapsed": true
            },
            "source": "# Tracking the Covid-19 pandemic collaboratively and setup Impacted, Recovery and Testing sites possibilities "
        },
        {
            "cell_type": "markdown",
            "metadata": {},
            "source": "# Downloading and Prepping Data:"
        },
        {
            "cell_type": "markdown",
            "metadata": {},
            "source": "The Downloading and Preparing data involve gather data, discover and assess data, cleanse and validate data, transform and enrich data and store data."
        },
        {
            "cell_type": "markdown",
            "metadata": {},
            "source": "The COVID Tracking testing data available for US states and territories. It has been cited in and used by major public health authorities and community users . The daily number of cases, including states, U.S. territories can be found in below links:\nhttp://covidtracking.com/api/states/daily.csv\n"
        },
        {
            "cell_type": "markdown",
            "metadata": {},
            "source": "This source data need to be cleaning and transforming prior to processing and analysis, additionally using some data science techniques reformatting data (For example - Replacing the NaN), making corrections to data and the  combining of data sets to get outcome results like : planning to launch more Covid-19 testing sites to choose the right location and plan to collect recovery counts by collecting historic data about the Covid-19"
        }
    ],
    "metadata": {
        "kernelspec": {
            "display_name": "Python 3.6",
            "language": "python",
            "name": "python3"
        },
        "language_info": {
            "codemirror_mode": {
                "name": "ipython",
                "version": 3
            },
            "file_extension": ".py",
            "mimetype": "text/x-python",
            "name": "python",
            "nbconvert_exporter": "python",
            "pygments_lexer": "ipython3",
            "version": "3.6.9"
        }
    },
    "nbformat": 4,
    "nbformat_minor": 1
}