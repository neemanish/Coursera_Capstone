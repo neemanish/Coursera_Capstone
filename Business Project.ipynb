{
    "cells": [
        {
            "cell_type": "markdown",
            "metadata": {
                "collapsed": true
            },
            "source": "# Tracking the Covid-19 pandemic collaboratively and setup Impacted, Recovery and Testing sites possibilities "
        },
        {
            "attachments": {},
            "cell_type": "markdown",
            "metadata": {},
            "source": ""
        },
        {
            "cell_type": "markdown",
            "metadata": {},
            "source": "# Introduction/Business Problem "
        },
        {
            "cell_type": "markdown",
            "metadata": {},
            "source": "As all we are navigate the ongoing COVID-19 crisis, there are a number of key challenges observed by public health authorities and government to count real time total impacted peoples as well as  how many peoples are recovered, in addition to identify new covid-19 testing location based on data science technology"
        },
        {
            "cell_type": "markdown",
            "metadata": {},
            "source": "\u201cThe idea of this study is to help public health authorities planning to launch more Covid-19 testing sites to choose the right location and plan to collect recovery counts by collecting historic data about the Covid-19 impacted peoples of each locality and major more preventive actions for spread the covid-19 cases\u201d "
        },
        {
            "cell_type": "markdown",
            "metadata": {},
            "source": "COVID-19 case counts are alarming in both their volume and widening geographic scope. There are also concerns about the COVID-19 case counts, recovery rates. Specifically, concerns regarding COVID-19 underreporting are influenced by factors such as lack of access to testing sites. The trajectories show the daily number of confirmed cases. But the widely available data on confirmed cases only becomes meaningful when it can be interpreted in light of how much a country is testing"
        }
    ],
    "metadata": {
        "kernelspec": {
            "display_name": "Python 3.6",
            "language": "python",
            "name": "python3"
        },
        "language_info": {
            "codemirror_mode": {
                "name": "ipython",
                "version": 3
            },
            "file_extension": ".py",
            "mimetype": "text/x-python",
            "name": "python",
            "nbconvert_exporter": "python",
            "pygments_lexer": "ipython3",
            "version": "3.6.9"
        }
    },
    "nbformat": 4,
    "nbformat_minor": 1
}